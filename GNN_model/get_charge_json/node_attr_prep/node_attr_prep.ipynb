{
 "cells": [
  {
   "cell_type": "markdown",
   "metadata": {},
   "source": [
    "### Save node attributes of DES to a `.json` file"
   ]
  },
  {
   "cell_type": "code",
   "execution_count": 1,
   "metadata": {},
   "outputs": [],
   "source": [
    "import os\n",
    "from utils.post_processing import get_disp, get_charge\n",
    "\n",
    "chg_list = []\n",
    "disp_list = []\n",
    "\n",
    "node_attr_dict = {\n",
    "    'charge': {\n",
    "        'list': chg_list,\n",
    "        'process_method': get_charge,\n",
    "        'raw_data_path': '/home/zyw/TOPO/GNN/AcryLamide/AM_chg',\n",
    "        'raw_data_type': 'chg',\n",
    "        'output_path': '/home/zyw/TOPO/GNN/AcryLamide/AM_chg/charge.json'\n",
    "        },\n",
    "}"
   ]
  },
  {
   "cell_type": "markdown",
   "metadata": {},
   "source": [
    "### 确定需要放进json文件中的结构名称"
   ]
  },
  {
   "cell_type": "code",
   "execution_count": 2,
   "metadata": {},
   "outputs": [
    {
     "name": "stdout",
     "output_type": "stream",
     "text": [
      "['new_277', 'new_335', 'new_337', 'new_369', 'new_370', 'new_373', 'new_374', 'new_377', 'new_378', 'new_379', 'new_381', 'new_384', 'new_443', 'new_466', 'new_486', 'new_488', 'new_489', 'new_490', 'new_493', 'new_495', 'new_496', 'new_539', 'new_541', 'new_542', 'new_544', 'new_570', 'new_571', 'new_588', 'new_636', 'new_640', 'new_738']\n"
     ]
    }
   ],
   "source": [
    "num_list = []\n",
    "with open('/home/zyw/TOPO/GNN/AcryLamide/AcryLamide.csv','r') as f_csv:\n",
    "    for line in f_csv:\n",
    "        if 'SMILES' not in line :#line.startswith('#') == 0 :\n",
    "            num_list.append(line.split(',')[-1].strip())\n",
    "print(num_list)"
   ]
  },
  {
   "cell_type": "markdown",
   "metadata": {},
   "source": [
    "### 生成储存电荷的charge.json文件"
   ]
  },
  {
   "cell_type": "code",
   "execution_count": 3,
   "metadata": {},
   "outputs": [],
   "source": [
    "import json\n",
    "import os\n",
    "\n",
    "for key in node_attr_dict.keys():\n",
    "    for num in num_list:\n",
    "        file = os.path.join(\n",
    "            node_attr_dict[key]['raw_data_path'],\n",
    "            f\"{num}.{node_attr_dict[key]['raw_data_type']}\"\n",
    "        )\n",
    "        if os.path.exists(file):\n",
    "            node_attr_dict[key]['list'].append(\n",
    "                node_attr_dict[key]['process_method'](file)\n",
    "            )\n",
    "    with open(node_attr_dict[key]['output_path'], 'w') as op:\n",
    "        json.dump(node_attr_dict[key]['list'], op)\n"
   ]
  },
  {
   "cell_type": "markdown",
   "metadata": {},
   "source": [
    "### 将一系列json文件保存进目标目录下的node_attr.json里（这里只加了电荷）"
   ]
  },
  {
   "cell_type": "code",
   "execution_count": 9,
   "metadata": {},
   "outputs": [],
   "source": [
    "NODE_ATTR_DICT = {}\n",
    "\n",
    "for key in node_attr_dict.keys():\n",
    "    with open(node_attr_dict[key]['output_path']) as op:\n",
    "        attr_list = json.load(op)\n",
    "    NODE_ATTR_DICT[key] = attr_list\n",
    "\n",
    "length_list = [len(value) for value in NODE_ATTR_DICT.values()]\n",
    "if min(length_list) != max(length_list):\n",
    "    print(length_list)\n",
    "    raise RuntimeError('Node attributes are not of the same length.')\n",
    "\n",
    "output_path = os.path.join('/home/zyw/TOPO/GNN/Others/chg/node_attr.json')\n",
    "with open(output_path, 'w') as op:\n",
    "    json.dump(NODE_ATTR_DICT, op)"
   ]
  }
 ],
 "metadata": {
  "kernelspec": {
   "display_name": "Dow_DES",
   "language": "python",
   "name": "python3"
  },
  "language_info": {
   "codemirror_mode": {
    "name": "ipython",
    "version": 3
   },
   "file_extension": ".py",
   "mimetype": "text/x-python",
   "name": "python",
   "nbconvert_exporter": "python",
   "pygments_lexer": "ipython3",
   "version": "3.11.5"
  },
  "orig_nbformat": 4
 },
 "nbformat": 4,
 "nbformat_minor": 2
}
