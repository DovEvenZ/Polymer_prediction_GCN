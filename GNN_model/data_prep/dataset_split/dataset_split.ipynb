{
 "cells": [
  {
   "cell_type": "markdown",
   "metadata": {},
   "source": [
    "### Path of database of different properties"
   ]
  },
  {
   "cell_type": "code",
   "execution_count": 46,
   "metadata": {},
   "outputs": [],
   "source": [
    "job_dict = {\n",
    "    'density': '../../../Database/density_database.csv',\n",
    "    'viscosity': '../../../Database/viscosity_database.csv',\n",
    "    'mp': '../../../Database/mp_database.csv',\n",
    "    'tg': '../../../Database/tg_database.csv',\n",
    "    'td': '../../../Database/td_database.csv',\n",
    "    'ph': '../../../Database/pH_database.csv',\n",
    "    'surface_tension': '../../../Database/surface_tension_database.csv',\n",
    "    'xTB_DFT': '../../../Database_Structure/structure/xTB_DFT/data.csv'\n",
    "}"
   ]
  },
  {
   "cell_type": "markdown",
   "metadata": {},
   "source": [
    "### Determine the type of job"
   ]
  },
  {
   "cell_type": "code",
   "execution_count": 47,
   "metadata": {},
   "outputs": [],
   "source": [
    "job_type = 'viscosity'\n",
    "TARGET = 'viscosity (mPa s)'"
   ]
  },
  {
   "cell_type": "markdown",
   "metadata": {},
   "source": [
    "### Match the entry with the index of corresponding DES"
   ]
  },
  {
   "cell_type": "code",
   "execution_count": 48,
   "metadata": {},
   "outputs": [],
   "source": [
    "import pandas as pd\n",
    "\n",
    "src_database = pd.read_csv('../../../Database_Structure/DES.csv')\n",
    "DES_list = []\n",
    "for i in range(len(src_database)):\n",
    "    text = src_database['HBA_smiles'][i] + src_database['HBD_smiles'][i] + str(src_database['molar_ratio'][i])\n",
    "    if text in DES_list:\n",
    "        print(i)\n",
    "    DES_list.append(text)\n",
    "\n",
    "index_list = []\n",
    "job_database = pd.read_csv(job_dict[job_type])\n",
    "for i in range(len(job_database)):\n",
    "    DES_type = job_database['HBA_smiles'][i] + job_database['HBD_smiles'][i] + str(job_database['molar_ratio (HBA:HBD)'][i])\n",
    "    index_list.append(DES_list.index(DES_type))"
   ]
  },
  {
   "cell_type": "code",
   "execution_count": 49,
   "metadata": {},
   "outputs": [],
   "source": [
    "import os\n",
    "\n",
    "target_list = []\n",
    "DES_dir = '../../../Database_Structure/MD_simulation/xTB/xTB_MDS_002/result_dir/'\n",
    "\n",
    "for target, index in zip(job_database[TARGET], index_list):\n",
    "    if not os.path.exists(os.path.join(DES_dir, f'DES_{index + 1}_trj.xyz')):\n",
    "        continue\n",
    "    target_list.append(target)"
   ]
  },
  {
   "cell_type": "markdown",
   "metadata": {},
   "source": [
    "### Split target-list with a fixed step, using index as identification"
   ]
  },
  {
   "cell_type": "code",
   "execution_count": 51,
   "metadata": {},
   "outputs": [],
   "source": [
    "from typing import List\n",
    "import random\n",
    "\n",
    "seed = 42\n",
    "random.seed(seed)\n",
    "\n",
    "def get_index_randomly(_list: List, floor: float, ceiling: float, split: List[float]):\n",
    "    split_list = []\n",
    "    index_list = [index for index, num in enumerate(_list) if floor <= num < ceiling]\n",
    "    tot_len = len(index_list)\n",
    "    sum_len = 0\n",
    "    for i, percentage in enumerate(split):\n",
    "        if i == len(split) - 1:\n",
    "            length = tot_len - sum_len\n",
    "        else:\n",
    "            length = int(percentage * tot_len)\n",
    "        sum_len += length\n",
    "        sampled_list = random.sample(index_list, length)\n",
    "        split_list.append(sampled_list)\n",
    "        index_list = [element for element in index_list if element not in sampled_list]\n",
    "    return split_list"
   ]
  },
  {
   "cell_type": "code",
   "execution_count": 52,
   "metadata": {},
   "outputs": [],
   "source": [
    "i = 0\n",
    "step = 10\n",
    "split = [0.6, 0.2, 0.2]\n",
    "split_list = [[], [], []]\n",
    "while True:\n",
    "    floor = i * step\n",
    "    ceiling = (i + 1) * 10\n",
    "    if ceiling > 1000:\n",
    "        break\n",
    "    sub_index_list = get_index_randomly(target_list, floor, ceiling, split)\n",
    "    if min([len(i) for i in sub_index_list]) == 0:\n",
    "        i += 1\n",
    "        continue\n",
    "    for sub_split_list, _sub_index_list in zip(split_list, sub_index_list):\n",
    "        sub_split_list.extend(_sub_index_list)\n",
    "    i += 1"
   ]
  },
  {
   "cell_type": "markdown",
   "metadata": {},
   "source": [
    "### Save the split to `.npy` file"
   ]
  },
  {
   "cell_type": "code",
   "execution_count": 53,
   "metadata": {},
   "outputs": [],
   "source": [
    "import numpy as np\n",
    "\n",
    "split_array = np.array([np.array(i, dtype=np.int64) for i in split_list], dtype='object')\n",
    "np.save('../../database/viscosity/split.npy', split_array)"
   ]
  }
 ],
 "metadata": {
  "kernelspec": {
   "display_name": "Dow_DES",
   "language": "python",
   "name": "python3"
  },
  "language_info": {
   "codemirror_mode": {
    "name": "ipython",
    "version": 3
   },
   "file_extension": ".py",
   "mimetype": "text/x-python",
   "name": "python",
   "nbconvert_exporter": "python",
   "pygments_lexer": "ipython3",
   "version": "3.10.13"
  },
  "orig_nbformat": 4
 },
 "nbformat": 4,
 "nbformat_minor": 2
}
