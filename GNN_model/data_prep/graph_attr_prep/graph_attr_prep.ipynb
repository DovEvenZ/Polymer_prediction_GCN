{
 "cells": [
  {
   "cell_type": "markdown",
   "metadata": {},
   "source": [
    "### Path of database of different properties"
   ]
  },
  {
   "cell_type": "code",
   "execution_count": 1,
   "metadata": {},
   "outputs": [],
   "source": [
    "import pandas as pd\n",
    "\n",
    "src_database = pd.read_csv('../../../Database_Structure/DES.csv', keep_default_na = False)\n",
    "source_dict = {\n",
    "    'density': '../../../Database/density_database.csv',\n",
    "    'viscosity': '../../../Database/viscosity_database.csv',\n",
    "    'mp': '../../../Database/mp_database.csv',\n",
    "    'tg': '../../../Database/tg_database.csv',\n",
    "    'td': '../../../Database/td_database.csv',\n",
    "    'ph': '../../../Database/pH_database.csv',\n",
    "    'surface_tension': '../../../Database/surface_tension_database.csv',\n",
    "    'xTB_DFT': '../../../Database_Structure/structure/xTB_DFT/data.csv'\n",
    "}\n",
    "\n",
    "hbond_type = 'Pauling'\n",
    "job_dict = {\n",
    "    'density': {\n",
    "        'source': source_dict['density'],\n",
    "        'feature': {\n",
    "            'exp': {\n",
    "                'water_content': pd.read_csv(source_dict['density'], keep_default_na = False)['water content (wt.%)'].tolist(),\n",
    "                'temperature': pd.read_csv(source_dict['density'], keep_default_na = False)['Tmeasure (K)'].tolist(),\n",
    "                },\n",
    "            'calc':{\n",
    "                'num_hbond': src_database[hbond_type].tolist(),\n",
    "                'interaction_energy': src_database['Interaction_energy(kcal/mol)'].tolist()\n",
    "                },\n",
    "            },\n",
    "        'target': pd.read_csv(source_dict['density'], keep_default_na = False)['density (g cm-3)'].tolist(),\n",
    "        'output': '../../database/density/attr_train.csv'\n",
    "        },\n",
    "    'viscosity': {\n",
    "        'source': '../../../Database/viscosity_database.csv',\n",
    "        'feature': {\n",
    "            'exp': {\n",
    "                'water_content': pd.read_csv(source_dict['viscosity'], keep_default_na = False)['water content (wt.%)'].tolist(),\n",
    "                'temperature': pd.read_csv(source_dict['viscosity'], keep_default_na = False)['Tmeasure (K)'].tolist(),\n",
    "                },\n",
    "            'calc': {\n",
    "                'num_hbond': src_database[hbond_type].tolist(),\n",
    "                },\n",
    "            },\n",
    "        'target': pd.read_csv(source_dict['viscosity'], keep_default_na = False)['viscosity (mPa s)'].tolist(),\n",
    "        'output': '../../database/viscosity/attr_train.csv'\n",
    "        },\n",
    "    'mp': {\n",
    "        'source': '../../../Database/mp_database.csv',\n",
    "        'output': '../../database/mp/attr_train.csv'\n",
    "        },\n",
    "    'tg': {\n",
    "        'source': '../../../Database/tg_database.csv',\n",
    "        'output': '../../database/tg/attr_train.csv'\n",
    "        },\n",
    "    'td': {\n",
    "        'source': '../../../Database/td_database.csv',\n",
    "        'output': '../../database/td/attr_train.csv'\n",
    "        },\n",
    "    'ph': {\n",
    "        'source': '../../../Database/pH_database.csv',\n",
    "        'output': '../../database/ph/attr_train.csv'\n",
    "        },\n",
    "    'surface_tension': {\n",
    "        'source': '../../../Database/surface_tension_database.csv',\n",
    "        'output': '../../database/surface_tension/attr_train.csv'\n",
    "        },\n",
    "    'xTB_DFT': {\n",
    "        'source': '../../../Database_Structure/structure/xTB_DFT/data.csv',\n",
    "        'output': '../../database/xTB_DFT/attr_train.csv'\n",
    "        },\n",
    "}"
   ]
  },
  {
   "cell_type": "markdown",
   "metadata": {},
   "source": [
    "### Determine the type of job"
   ]
  },
  {
   "cell_type": "code",
   "execution_count": 2,
   "metadata": {},
   "outputs": [],
   "source": [
    "job_type = 'viscosity'"
   ]
  },
  {
   "cell_type": "markdown",
   "metadata": {},
   "source": [
    "### Match the entry with the index of corresponding DES"
   ]
  },
  {
   "cell_type": "code",
   "execution_count": 3,
   "metadata": {},
   "outputs": [],
   "source": [
    "DES_list = []\n",
    "for i in range(len(src_database)):\n",
    "    text = src_database['HBA_smiles'][i] + src_database['HBD_smiles'][i] + str(src_database['molar_ratio'][i])\n",
    "    if text in DES_list:\n",
    "        print(i)\n",
    "    DES_list.append(text)\n",
    "\n",
    "index_list = []\n",
    "job_database = pd.read_csv(job_dict[job_type]['source'])\n",
    "for i in range(len(job_database)):\n",
    "    DES_type = job_database['HBA_smiles'][i] + job_database['HBD_smiles'][i] + str(job_database['molar_ratio (HBA:HBD)'][i])\n",
    "    index_list.append(DES_list.index(DES_type))"
   ]
  },
  {
   "cell_type": "code",
   "execution_count": 4,
   "metadata": {},
   "outputs": [],
   "source": [
    "import os\n",
    "\n",
    "def gen_attr(job_type: str, DES_dir: str):\n",
    "    attr_dict = {}\n",
    "\n",
    "    for feature in job_dict[job_type]['feature']['exp'].keys():\n",
    "        feature_list = []\n",
    "        for i, (ft, index) in enumerate(zip(job_dict[job_type]['feature']['exp'][feature], index_list)):\n",
    "            if not os.path.exists(os.path.join(DES_dir, f'DES_{index + 1}_trj.xyz')):\n",
    "                continue\n",
    "            try:\n",
    "                if float(ft) == float(ft):\n",
    "                    feature_list.append(float(ft))\n",
    "                else:\n",
    "                    feature_list.append(0.0)\n",
    "            except ValueError:\n",
    "                if '<' in ft:\n",
    "                    feature_list.append(0.0)\n",
    "                elif '-' in ft:\n",
    "                    feature_list.append((float(ft.split('-')[0]) + float(ft.split('-')[1])) * 0.5)\n",
    "                else:\n",
    "                    feature_list.append(0.0)\n",
    "                    print(f'{feature}: {i}; {ft}')\n",
    "        attr_dict[feature] = feature_list\n",
    "\n",
    "    for feature in job_dict[job_type]['feature']['calc'].keys():\n",
    "        feature_list = []\n",
    "        for index in index_list:\n",
    "            if not os.path.exists(os.path.join(DES_dir, f'DES_{index + 1}_trj.xyz')):\n",
    "                continue\n",
    "            feature_list.append(job_dict[job_type]['feature']['calc'][feature][index])\n",
    "        attr_dict[feature] = feature_list\n",
    "\n",
    "    target_list = []\n",
    "    for i, (tg, index) in enumerate(zip(job_dict[job_type]['target'], index_list)):\n",
    "        if not os.path.exists(os.path.join(DES_dir, f'DES_{index + 1}_trj.xyz')):\n",
    "            continue\n",
    "        try:\n",
    "            target_list.append(float(tg))\n",
    "        except ValueError:\n",
    "            print(f'target: {i}; {ft}')\n",
    "    attr_dict[job_type] = target_list\n",
    "\n",
    "    return attr_dict"
   ]
  },
  {
   "cell_type": "code",
   "execution_count": 9,
   "metadata": {},
   "outputs": [
    {
     "data": {
      "text/plain": [
       "1910"
      ]
     },
     "execution_count": 9,
     "metadata": {},
     "output_type": "execute_result"
    }
   ],
   "source": [
    "attr_dict = gen_attr(job_type, '../../../Database_Structure/MD_simulation/xTB/xTB_MDS_002/result_dir/')\n",
    "len(attr_dict['num_hbond'])"
   ]
  },
  {
   "cell_type": "code",
   "execution_count": 5,
   "metadata": {},
   "outputs": [],
   "source": [
    "attr_dict = gen_attr(job_type, '../../../Database_Structure/MD_simulation/xTB/xTB_MDS_002/result_dir/')\n",
    "pd.DataFrame(attr_dict).to_csv(job_dict[job_type]['output'], index = False)"
   ]
  }
 ],
 "metadata": {
  "kernelspec": {
   "display_name": "Dow_DES",
   "language": "python",
   "name": "python3"
  },
  "language_info": {
   "codemirror_mode": {
    "name": "ipython",
    "version": 3
   },
   "file_extension": ".py",
   "mimetype": "text/x-python",
   "name": "python",
   "nbconvert_exporter": "python",
   "pygments_lexer": "ipython3",
   "version": "3.10.13"
  },
  "orig_nbformat": 4
 },
 "nbformat": 4,
 "nbformat_minor": 2
}
