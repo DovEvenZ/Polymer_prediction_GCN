{
 "cells": [
  {
   "cell_type": "markdown",
   "metadata": {},
   "source": [
    "### Path of database of different properties"
   ]
  },
  {
   "cell_type": "code",
   "execution_count": 1,
   "metadata": {},
   "outputs": [],
   "source": [
    "job_dict = {\n",
    "    'density': '../../../Database/density_database.csv',\n",
    "    'viscosity': '../../../Database/viscosity_database.csv',\n",
    "    'mp': '../../../Database/mp_database.csv',\n",
    "    'tg': '../../../Database/tg_database.csv',\n",
    "    'td': '../../../Database/td_database.csv',\n",
    "    'ph': '../../../Database/pH_database.csv',\n",
    "    'surface_tension': '../../../Database/surface_tension_database.csv',\n",
    "    'xTB_DFT': '../../../Database_Structure/structure/xTB_DFT/data.csv'\n",
    "}"
   ]
  },
  {
   "cell_type": "markdown",
   "metadata": {},
   "source": [
    "### Determine the type of job"
   ]
  },
  {
   "cell_type": "code",
   "execution_count": 2,
   "metadata": {},
   "outputs": [],
   "source": [
    "job_type = 'density'"
   ]
  },
  {
   "cell_type": "markdown",
   "metadata": {},
   "source": [
    "### Match the entry with the index of corresponding DES"
   ]
  },
  {
   "cell_type": "code",
   "execution_count": 3,
   "metadata": {},
   "outputs": [],
   "source": [
    "import pandas as pd\n",
    "\n",
    "src_database = pd.read_csv('../../../Database_Structure/DES.csv')\n",
    "DES_list = []\n",
    "for i in range(len(src_database)):\n",
    "    text = src_database['HBA_smiles'][i] + src_database['HBD_smiles'][i] + str(src_database['molar_ratio'][i])\n",
    "    if text in DES_list:\n",
    "        print(i)\n",
    "    DES_list.append(text)\n",
    "\n",
    "index_list = []\n",
    "job_database = pd.read_csv(job_dict[job_type])\n",
    "for i in range(len(job_database)):\n",
    "    DES_type = job_database['HBA_smiles'][i] + job_database['HBD_smiles'][i] + str(job_database['molar_ratio (HBA:HBD)'][i])\n",
    "    index_list.append(DES_list.index(DES_type))"
   ]
  },
  {
   "cell_type": "markdown",
   "metadata": {},
   "source": [
    "### Save node attributes of DES to a `.json` file"
   ]
  },
  {
   "cell_type": "code",
   "execution_count": 13,
   "metadata": {},
   "outputs": [],
   "source": [
    "import os\n",
    "from utils.post_processing import get_disp, get_charge\n",
    "\n",
    "database_dir = '../../database/'\n",
    "\n",
    "chg_list = []\n",
    "disp_list = []\n",
    "\n",
    "node_attr_dict = {\n",
    "    'charge': {\n",
    "        'list': chg_list,\n",
    "        'process_method': get_charge,\n",
    "        'raw_data_path': '../../../Database_Structure/MD_simulation/xTB/xTB_MDS_002/multiwfn/charge/',\n",
    "        'raw_data_type': 'chg',\n",
    "        'output_path': os.path.join(database_dir, f'{job_type}/charge.json')\n",
    "        },\n",
    "    'dispersion': {\n",
    "        'list': disp_list,\n",
    "        'process_method': get_disp,\n",
    "        'raw_data_path': '../../../Database_Structure/MD_simulation/xTB/xTB_MDS_002/multiwfn/dispersion/',\n",
    "        'raw_data_type': 'pqr',\n",
    "        'output_path': os.path.join(database_dir, f'{job_type}/dispersion.json')\n",
    "        }\n",
    "}"
   ]
  },
  {
   "cell_type": "code",
   "execution_count": 15,
   "metadata": {},
   "outputs": [],
   "source": [
    "import json\n",
    "import os\n",
    "\n",
    "for key in node_attr_dict.keys():\n",
    "    for index in index_list:\n",
    "        file = os.path.join(\n",
    "            node_attr_dict[key]['raw_data_path'],\n",
    "            f\"DES_{index + 1}.{node_attr_dict[key]['raw_data_type']}\"\n",
    "        )\n",
    "        if os.path.exists(file):\n",
    "            node_attr_dict[key]['list'].append(\n",
    "                node_attr_dict[key]['process_method'](file)\n",
    "            )\n",
    "    with open(node_attr_dict[key]['output_path'], 'w') as op:\n",
    "        json.dump(node_attr_dict[key]['list'], op)\n"
   ]
  },
  {
   "cell_type": "code",
   "execution_count": 17,
   "metadata": {},
   "outputs": [],
   "source": [
    "NODE_ATTR_DICT = {}\n",
    "\n",
    "for key in node_attr_dict.keys():\n",
    "    with open(node_attr_dict[key]['output_path']) as op:\n",
    "        attr_list = json.load(op)\n",
    "    NODE_ATTR_DICT[key] = attr_list\n",
    "\n",
    "length_list = [len(value) for value in NODE_ATTR_DICT.values()]\n",
    "if min(length_list) != max(length_list):\n",
    "    print(length_list)\n",
    "    raise RuntimeError('Node attributes are not of the same length.')\n",
    "\n",
    "output_path = os.path.join(database_dir, f'{job_type}/node_attr.json')\n",
    "with open(output_path, 'w') as op:\n",
    "    json.dump(NODE_ATTR_DICT, op)"
   ]
  }
 ],
 "metadata": {
  "kernelspec": {
   "display_name": "Dow_DES",
   "language": "python",
   "name": "python3"
  },
  "language_info": {
   "codemirror_mode": {
    "name": "ipython",
    "version": 3
   },
   "file_extension": ".py",
   "mimetype": "text/x-python",
   "name": "python",
   "nbconvert_exporter": "python",
   "pygments_lexer": "ipython3",
   "version": "3.11.5"
  },
  "orig_nbformat": 4
 },
 "nbformat": 4,
 "nbformat_minor": 2
}
