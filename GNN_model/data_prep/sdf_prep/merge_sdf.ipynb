{
 "cells": [
  {
   "cell_type": "markdown",
   "metadata": {},
   "source": [
    "# Prepare merged SDF file for GCN training"
   ]
  },
  {
   "cell_type": "code",
   "execution_count": 1,
   "metadata": {},
   "outputs": [],
   "source": [
    "job_dict = {\n",
    "    'density': '../../../Database/density_database.csv',\n",
    "    'viscosity': '../../../Database/viscosity_database.csv',\n",
    "    'mp': '../../../Database/mp_database.csv',\n",
    "    'tg': '../../../Database/tg_database.csv',\n",
    "    'td': '../../../Database/td_database.csv',\n",
    "    'ph': '../../../Database/pH_database.csv',\n",
    "    'surface_tension': '../../../Database/surface_tension_database.csv',\n",
    "    'xTB_DFT': '../../../Database_Structure/structure/xTB_DFT/data.csv'\n",
    "}"
   ]
  },
  {
   "cell_type": "markdown",
   "metadata": {},
   "source": [
    "## 1. DES"
   ]
  },
  {
   "cell_type": "markdown",
   "metadata": {},
   "source": [
    "### Get the index of DES in database"
   ]
  },
  {
   "cell_type": "code",
   "execution_count": 2,
   "metadata": {},
   "outputs": [],
   "source": [
    "import pandas as pd\n",
    "\n",
    "job_type = 'density'\n",
    "\n",
    "src_database = pd.read_csv('../../../Database_Structure/DES.csv')\n",
    "DES_list = []\n",
    "for i in range(len(src_database)):\n",
    "    text = src_database['HBA_smiles'][i] + src_database['HBD_smiles'][i] + str(src_database['molar_ratio'][i])\n",
    "    if text in DES_list:\n",
    "        print(i)\n",
    "    DES_list.append(text)\n",
    "\n",
    "index_list = []\n",
    "job_database = pd.read_csv(job_dict[job_type])\n",
    "for i in range(len(job_database)):\n",
    "    DES_type = job_database['HBA_smiles'][i] + job_database['HBD_smiles'][i] + str(job_database['molar_ratio (HBA:HBD)'][i])\n",
    "    index_list.append(DES_list.index(DES_type) + 1)"
   ]
  },
  {
   "cell_type": "markdown",
   "metadata": {},
   "source": [
    "### Convert XYZ to SDF"
   ]
  },
  {
   "cell_type": "code",
   "execution_count": 6,
   "metadata": {},
   "outputs": [],
   "source": [
    "import subprocess\n",
    "import os\n",
    "\n",
    "xyz_dir = sdf_dir =  '../../../Database_Structure/MD_simulation/xTB/xTB_MDS_002/result_dir/lowest_E_frame/'\n",
    "\n",
    "for file in os.listdir(xyz_dir):\n",
    "    if file.endswith('.xyz'):\n",
    "        xyz_path = os.path.join(xyz_dir, file)\n",
    "        sdf_path = xyz_path.replace('.xyz', '.sdf')\n",
    "        openbabel_cmd = f'obabel -ixyz {xyz_path} -osdf -O {sdf_path}'\n",
    "        if not os.path.exists(sdf_path):\n",
    "            subprocess.Popen(openbabel_cmd,\n",
    "                             shell=True,\n",
    "                             stdout=subprocess.DEVNULL,\n",
    "                             stderr=subprocess.DEVNULL)\n"
   ]
  },
  {
   "cell_type": "markdown",
   "metadata": {},
   "source": [
    "### Merge SDF"
   ]
  },
  {
   "cell_type": "code",
   "execution_count": 7,
   "metadata": {},
   "outputs": [],
   "source": [
    "import os\n",
    "\n",
    "sdf_list = []\n",
    "for i in index_list:\n",
    "    sdf_path = os.path.join(sdf_dir, f'DES_{i}.sdf')\n",
    "    if os.path.exists(sdf_path):\n",
    "        sdf_list.append(sdf_path)"
   ]
  },
  {
   "cell_type": "code",
   "execution_count": 8,
   "metadata": {},
   "outputs": [
    {
     "name": "stdout",
     "output_type": "stream",
     "text": [
      "total sdf: 2599\n"
     ]
    },
    {
     "data": {
      "text/plain": [
       "'../../database/density/merged_mol.sdf'"
      ]
     },
     "execution_count": 8,
     "metadata": {},
     "output_type": "execute_result"
    }
   ],
   "source": [
    "from xyz2sdf import merge_sdf\n",
    "\n",
    "merge_sdf(sdf_list, f'../../database/{job_type}/merged_mol.sdf')"
   ]
  },
  {
   "cell_type": "markdown",
   "metadata": {},
   "source": [
    "## 2. xTB~DFT"
   ]
  },
  {
   "cell_type": "markdown",
   "metadata": {},
   "source": [
    "### Convert XYZ to SDF"
   ]
  },
  {
   "cell_type": "code",
   "execution_count": 2,
   "metadata": {},
   "outputs": [],
   "source": [
    "import subprocess\n",
    "import os\n",
    "\n",
    "xyz_dir = sdf_dir =  '../../Database_Structure/structure/xTB_DFT/xTB_structure/'\n",
    "\n",
    "for file in os.listdir(xyz_dir):\n",
    "    if file.endswith('.xyz'):\n",
    "        xyz_path = os.path.join(xyz_dir, file)\n",
    "        sdf_path = xyz_path.replace('.xyz', '.sdf')\n",
    "        openbabel_cmd = f'obabel -ixyz {xyz_path} -osdf -O {sdf_path}'\n",
    "        if not os.path.exists(sdf_path):\n",
    "            subprocess.Popen(openbabel_cmd,\n",
    "                             shell=True,\n",
    "                             stdout=subprocess.DEVNULL,\n",
    "                             stderr=subprocess.DEVNULL)"
   ]
  },
  {
   "cell_type": "markdown",
   "metadata": {},
   "source": [
    "### Merge SDF"
   ]
  },
  {
   "cell_type": "code",
   "execution_count": 7,
   "metadata": {},
   "outputs": [],
   "source": [
    "import pandas as pd\n",
    "\n",
    "job_type = 'xTB_DFT'\n",
    "job_database = pd.read_csv(job_dict[job_type], keep_default_na = False)\n",
    "sdf_list = []\n",
    "for i, file_name in enumerate(job_database['Substance'].tolist()):\n",
    "    if job_database['DFT'].tolist()[i] == '':\n",
    "        continue\n",
    "    sdf_path = os.path.join(sdf_dir, f'{file_name}.sdf')\n",
    "    sdf_list.append(sdf_path)"
   ]
  },
  {
   "cell_type": "code",
   "execution_count": 11,
   "metadata": {},
   "outputs": [
    {
     "name": "stdout",
     "output_type": "stream",
     "text": [
      "total sdf: 1772\n"
     ]
    },
    {
     "data": {
      "text/plain": [
       "'../../Database_Structure/structure/xTB_DFT/xTB_structure/merged_mol.sdf'"
      ]
     },
     "execution_count": 11,
     "metadata": {},
     "output_type": "execute_result"
    }
   ],
   "source": [
    "from xyz2sdf import merge_sdf\n",
    "\n",
    "merge_sdf(sdf_list, os.path.join(sdf_dir, 'merged_mol.sdf'))"
   ]
  }
 ],
 "metadata": {
  "kernelspec": {
   "display_name": "gnn",
   "language": "python",
   "name": "python3"
  },
  "language_info": {
   "codemirror_mode": {
    "name": "ipython",
    "version": 3
   },
   "file_extension": ".py",
   "mimetype": "text/x-python",
   "name": "python",
   "nbconvert_exporter": "python",
   "pygments_lexer": "ipython3",
   "version": "3.10.13"
  },
  "orig_nbformat": 4
 },
 "nbformat": 4,
 "nbformat_minor": 2
}
